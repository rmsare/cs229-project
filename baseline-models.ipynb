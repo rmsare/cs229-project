{
 "cells": [
  {
   "cell_type": "code",
   "execution_count": 1,
   "metadata": {},
   "outputs": [],
   "source": [
    "import os\n",
    "import matplotlib.pyplot as plt\n",
    "import numpy as np\n",
    "import pandas as pd\n",
    "import seaborn as sns\n",
    "import sklearn\n",
    "import warnings\n",
    "warnings.filterwarnings('ignore')"
   ]
  },
  {
   "cell_type": "code",
   "execution_count": 2,
   "metadata": {},
   "outputs": [],
   "source": [
    "from sklearn.linear_model import LinearRegression\n",
    "from sklearn.ensemble import RandomForestRegressor\n",
    "from sklearn.svm import SVR"
   ]
  },
  {
   "cell_type": "code",
   "execution_count": 3,
   "metadata": {},
   "outputs": [],
   "source": [
    "from sklearn.model_selection import GridSearchCV\n",
    "from sklearn.model_selection import train_test_split"
   ]
  },
  {
   "cell_type": "code",
   "execution_count": 4,
   "metadata": {},
   "outputs": [],
   "source": [
    "from ml_utils import print_report, score_model\n",
    "from prepare_data import lag"
   ]
  },
  {
   "cell_type": "code",
   "execution_count": 5,
   "metadata": {},
   "outputs": [],
   "source": [
    "df = pd.read_csv('data/los_angeles_weather_pm25.csv')\n",
    "df = df.rename(mapper={'Unnamed: 0': 'DATE'}, axis='columns')\n",
    "df = df.set_index(pd.to_datetime(df.DATE))\n",
    "df = df[df.PM25 < 500]\n",
    "df = df[df.PM25 > 0]"
   ]
  },
  {
   "cell_type": "code",
   "execution_count": 6,
   "metadata": {},
   "outputs": [],
   "source": [
    "df['DOW'] = df.index.dayofweek\n",
    "df['HOUR'] = df.index.hour\n",
    "df['MONTH'] = df.index.month\n",
    "df['WEEKDAY'] = df.DOW.between(0, 4)\n",
    "df = lag(df, 'PM25', lags=[1, 2, 3, 4, 5, 6, 12, 24])"
   ]
  },
  {
   "cell_type": "code",
   "execution_count": 7,
   "metadata": {},
   "outputs": [],
   "source": [
    "df = df.dropna()"
   ]
  },
  {
   "cell_type": "code",
   "execution_count": 8,
   "metadata": {},
   "outputs": [],
   "source": [
    "weather = ['TMP', 'DEW', 'SPD', 'SLP', 'DIR']\n",
    "features = [weather, weather + ['DOW', 'MONTH', 'HOUR'], weather + ['DOW', 'MONTH', 'HOUR', 'PM25_24'], weather + ['DOW', 'MONTH', 'HOUR', 'PM25_12'], weather + ['DOW', 'MONTH', 'HOUR', 'PM25_6'], weather + ['DOW', 'MONTH', 'HOUR', 'PM25_1']]\n",
    "labels = ['Weather', 'W + time', 'W + t + PM25 24 hour lag', 'W + t + PM25 12 hour lag', 'W + t + PM25 6 hour lag', 'W + t + PM25 1 hour lag']"
   ]
  },
  {
   "cell_type": "code",
   "execution_count": 15,
   "metadata": {},
   "outputs": [
    {
     "data": {
      "text/plain": [
       "GridSearchCV(cv=3, error_score='raise',\n",
       "       estimator=RandomForestRegressor(bootstrap=True, criterion='mse', max_depth=None,\n",
       "           max_features='auto', max_leaf_nodes=None,\n",
       "           min_impurity_decrease=0.0, min_impurity_split=None,\n",
       "           min_samples_leaf=1, min_samples_split=2,\n",
       "           min_weight_fraction_leaf=0.0, n_estimators=10, n_jobs=1,\n",
       "           oob_score=False, random_state=None, verbose=0, warm_start=False),\n",
       "       fit_params=None, iid=True, n_jobs=1,\n",
       "       param_grid={'n_estimators': [10, 50, 100], 'max_depth': [2, 3, 4, 5, 10]},\n",
       "       pre_dispatch='2*n_jobs', refit=True, return_train_score='warn',\n",
       "       scoring='neg_mean_squared_error', verbose=0)"
      ]
     },
     "execution_count": 15,
     "metadata": {},
     "output_type": "execute_result"
    }
   ],
   "source": [
    "feat = features[-1]\n",
    "X = df[feat].values\n",
    "y = df['PM25'].values\n",
    "X_train, X_test, y_train, y_test = train_test_split(X, y, test_size=0.2, random_state=2)\n",
    "est = RandomForestRegressor()\n",
    "param_grid = {'n_estimators': [10, 50, 100],\n",
    "             'max_depth': [2, 3, 4, 5, 10]}\n",
    "cv = GridSearchCV(estimator=est, param_grid=param_grid, scoring='neg_mean_squared_error', cv=3)\n",
    "cv.fit(X_train, y_train)"
   ]
  },
  {
   "cell_type": "code",
   "execution_count": 16,
   "metadata": {},
   "outputs": [
    {
     "name": "stdout",
     "output_type": "stream",
     "text": [
      "{'n_estimators': 100, 'max_depth': 10}\n"
     ]
    }
   ],
   "source": [
    "print(cv.best_params_)"
   ]
  },
  {
   "cell_type": "code",
   "execution_count": 37,
   "metadata": {},
   "outputs": [
    {
     "data": {
      "image/png": "[encoded data removed]",
      "text/plain": [
       "<Figure size 432x288 with 2 Axes>"
      ]
     },
     "metadata": {},
     "output_type": "display_data"
    }
   ],
   "source": [
    "x = [p['n_estimators'] for p in cv.cv_results_['params']]\n",
    "y = [p['max_depth'] for p in cv.cv_results_['params']]\n",
    "s = [-s for s in cv.cv_results_['mean_test_score']]\n",
    "paths = plt.scatter(x, y, c=s, cmap='Reds_r')\n",
    "plt.colorbar(paths, label='Mean squared error')\n",
    "plt.xlabel('Number of trees')\n",
    "plt.ylabel('Maximum tree depth')\n",
    "plt.savefig('fig/crossval.png', dpi=300, bbox_inches='tight')"
   ]
  },
  {
   "cell_type": "code",
   "execution_count": null,
   "metadata": {},
   "outputs": [],
   "source": [
    "models = [LinearRegression(), SVR(kernel='linear'), RandomForestRegressor(n_estimators=10, max_depth=5)]\n",
    "features = [weather, weather + ['DOW', 'MONTH', 'HOUR'], weather + ['DOW', 'MONTH', 'HOUR', 'PM25_24'], weather + ['DOW', 'MONTH', 'HOUR', 'PM25_6'], weather + ['DOW', 'MONTH', 'HOUR', 'PM25_1']]\n",
    "for feat in features:\n",
    "    for model in models:\n",
    "        X = df[feat].values\n",
    "        y = df['PM25'].values\n",
    "        X_train, X_test, y_train, y_test = train_test_split(X, y, test_size=0.2, random_state=10)\n",
    "        n, p = X_train.shape\n",
    "        f = (n - 1) / (n - p - 1)\n",
    "        model.fit(X_train, y_train)\n",
    "        y_pred = model.predict(X_test)\n",
    "        print_report(y_test, y_pred, p, f)"
   ]
  },
  {
   "cell_type": "code",
   "execution_count": null,
   "metadata": {},
   "outputs": [],
   "source": [
    "model = RandomForestRegressor(n_estimators=100, max_depth=10)\n",
    "feat = features[-1] + ['volume']\n",
    "X = df[feat].values\n",
    "y = df['PM25'].values\n",
    "X_train, X_test, y_train, y_test = train_test_split(X, y, test_size=0.2, random_state=10)\n",
    "model.fit(X_train, y_train)\n",
    "y_pred = model.predict(X_test)"
   ]
  },
  {
   "cell_type": "code",
   "execution_count": null,
   "metadata": {},
   "outputs": [],
   "source": [
    "score_model(y_test, y_pred, p +1)"
   ]
  },
  {
   "cell_type": "code",
   "execution_count": null,
   "metadata": {},
   "outputs": [],
   "source": [
    "plt.plot(y_test, y_pred, 'k.')\n",
    "ymax = max(y_test.max(), y_pred.max())\n",
    "plt.plot([0, ymax], [0, ymax], 'b-')\n",
    "plt.xlim([0, ymax])\n",
    "plt.ylim([0, ymax])\n",
    "plt.xlabel('True PM$_{2.5}$ [$\\mu$g m$^{-3}$]', fontsize=12)\n",
    "plt.ylabel('Predicted PM$_{2.5}$ [$\\mu$g m$^{-3}$]', fontsize=12)\n",
    "plt.savefig('fig/rf_comparison.png', dpi=300, bbox_inches='tight')"
   ]
  },
  {
   "cell_type": "code",
   "execution_count": null,
   "metadata": {},
   "outputs": [],
   "source": [
    "df2 = pd.read_csv('data/Traffic_Count__Data.csv')\n",
    "df2 = df2.set_index(pd.to_datetime(df2['Count Date']))\n",
    "df2 = df2.groupby(pd.TimeGrouper('D')).mean()\n",
    "df2.columns = ['volume']"
   ]
  },
  {
   "cell_type": "code",
   "execution_count": null,
   "metadata": {},
   "outputs": [],
   "source": [
    "df2 = df2.resample('H').ffill()"
   ]
  },
  {
   "cell_type": "code",
   "execution_count": null,
   "metadata": {},
   "outputs": [],
   "source": [
    "df3 = pd.concat([df, df2], axis='columns')"
   ]
  },
  {
   "cell_type": "code",
   "execution_count": null,
   "metadata": {},
   "outputs": [],
   "source": [
    "ax = sns.regplot(x='volume', y='PM25', data=df3)\n",
    "ax.set_xlabel('Daily traffic volume')\n",
    "ax.set_ylabel('PM$_{2.5}$')\n",
    "plt.savefig('fig/traffic.png')"
   ]
  },
  {
   "cell_type": "code",
   "execution_count": null,
   "metadata": {},
   "outputs": [],
   "source": [
    "df3 = df3.dropna()"
   ]
  },
  {
   "cell_type": "code",
   "execution_count": null,
   "metadata": {},
   "outputs": [],
   "source": []
  }
 ],
 "metadata": {
  "kernelspec": {
   "display_name": "Python 3",
   "language": "python",
   "name": "python3"
  },
  "language_info": {
   "codemirror_mode": {
    "name": "ipython",
    "version": 3
   },
   "file_extension": ".py",
   "mimetype": "text/x-python",
   "name": "python",
   "nbconvert_exporter": "python",
   "pygments_lexer": "ipython3",
   "version": "3.5.2"
  }
 },
 "nbformat": 4,
 "nbformat_minor": 2
}
