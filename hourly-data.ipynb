{
 "cells": [
  {
   "cell_type": "code",
   "execution_count": 26,
   "metadata": {},
   "outputs": [],
   "source": [
    "import numpy as np\n",
    "import matplotlib.pyplot as plt\n",
    "import seaborn as sns\n",
    "import pandas as pd"
   ]
  },
  {
   "cell_type": "code",
   "execution_count": 27,
   "metadata": {},
   "outputs": [],
   "source": [
    "WEATHER_FILE = 'data/weather/los_angeles_weather_2000_2018.csv'\n",
    "POLLUTANT_FILE = 'data/pm25/los_angeles_pm25_2016_2018.csv'"
   ]
  },
  {
   "cell_type": "code",
   "execution_count": 28,
   "metadata": {},
   "outputs": [],
   "source": [
    "df = pd.read_csv(WEATHER_FILE)"
   ]
  },
  {
   "cell_type": "code",
   "execution_count": 29,
   "metadata": {},
   "outputs": [
    {
     "data": {
      "text/html": [
       "<div>\n",
       "<style scoped>\n",
       "    .dataframe tbody tr th:only-of-type {\n",
       "        vertical-align: middle;\n",
       "    }\n",
       "\n",
       "    .dataframe tbody tr th {\n",
       "        vertical-align: top;\n",
       "    }\n",
       "\n",
       "    .dataframe thead th {\n",
       "        text-align: right;\n",
       "    }\n",
       "</style>\n",
       "<table border=\"1\" class=\"dataframe\">\n",
       "  <thead>\n",
       "    <tr style=\"text-align: right;\">\n",
       "      <th></th>\n",
       "      <th>DATE</th>\n",
       "      <th>STATION</th>\n",
       "      <th>DATE.1</th>\n",
       "      <th>SLP</th>\n",
       "      <th>WND</th>\n",
       "      <th>TMP</th>\n",
       "      <th>DEW</th>\n",
       "    </tr>\n",
       "  </thead>\n",
       "  <tbody>\n",
       "    <tr>\n",
       "      <th>0</th>\n",
       "      <td>2000-01-01 00:00:00</td>\n",
       "      <td>72295023174</td>\n",
       "      <td>2000-01-01 00:00:00</td>\n",
       "      <td>10167,5</td>\n",
       "      <td>240,5,N,0057,5</td>\n",
       "      <td>+0130,5</td>\n",
       "      <td>+0000,1</td>\n",
       "    </tr>\n",
       "    <tr>\n",
       "      <th>1</th>\n",
       "      <td>2000-01-01 00:50:00</td>\n",
       "      <td>72295023174</td>\n",
       "      <td>2000-01-01 00:50:00</td>\n",
       "      <td>10169,5</td>\n",
       "      <td>260,5,N,0046,5</td>\n",
       "      <td>+0122,5</td>\n",
       "      <td>+0078,5</td>\n",
       "    </tr>\n",
       "    <tr>\n",
       "      <th>2</th>\n",
       "      <td>2000-01-01 01:00:00</td>\n",
       "      <td>72295023174</td>\n",
       "      <td>2000-01-01 01:00:00</td>\n",
       "      <td>99999,9</td>\n",
       "      <td>999,9,9,9999,9</td>\n",
       "      <td>+9999,9</td>\n",
       "      <td>+9999,9</td>\n",
       "    </tr>\n",
       "    <tr>\n",
       "      <th>3</th>\n",
       "      <td>2000-01-01 01:50:00</td>\n",
       "      <td>72295023174</td>\n",
       "      <td>2000-01-01 01:50:00</td>\n",
       "      <td>10171,5</td>\n",
       "      <td>280,5,N,0046,5</td>\n",
       "      <td>+0128,5</td>\n",
       "      <td>+0083,5</td>\n",
       "    </tr>\n",
       "    <tr>\n",
       "      <th>4</th>\n",
       "      <td>2000-01-01 02:00:00</td>\n",
       "      <td>72295023174</td>\n",
       "      <td>2000-01-01 02:00:00</td>\n",
       "      <td>99999,9</td>\n",
       "      <td>999,9,9,9999,9</td>\n",
       "      <td>+9999,9</td>\n",
       "      <td>+9999,9</td>\n",
       "    </tr>\n",
       "  </tbody>\n",
       "</table>\n",
       "</div>"
      ],
      "text/plain": [
       "                  DATE      STATION               DATE.1      SLP  \\\n",
       "0  2000-01-01 00:00:00  72295023174  2000-01-01 00:00:00  10167,5   \n",
       "1  2000-01-01 00:50:00  72295023174  2000-01-01 00:50:00  10169,5   \n",
       "2  2000-01-01 01:00:00  72295023174  2000-01-01 01:00:00  99999,9   \n",
       "3  2000-01-01 01:50:00  72295023174  2000-01-01 01:50:00  10171,5   \n",
       "4  2000-01-01 02:00:00  72295023174  2000-01-01 02:00:00  99999,9   \n",
       "\n",
       "              WND      TMP      DEW  \n",
       "0  240,5,N,0057,5  +0130,5  +0000,1  \n",
       "1  260,5,N,0046,5  +0122,5  +0078,5  \n",
       "2  999,9,9,9999,9  +9999,9  +9999,9  \n",
       "3  280,5,N,0046,5  +0128,5  +0083,5  \n",
       "4  999,9,9,9999,9  +9999,9  +9999,9  "
      ]
     },
     "execution_count": 29,
     "metadata": {},
     "output_type": "execute_result"
    }
   ],
   "source": [
    "df.head()"
   ]
  },
  {
   "cell_type": "code",
   "execution_count": 30,
   "metadata": {},
   "outputs": [],
   "source": [
    "df['DATE'] = pd.to_datetime(df.DATE)\n",
    "df['DATE'] = df['DATE'].dt.round('1h')\n",
    "df = df.set_index(df.DATE)"
   ]
  },
  {
   "cell_type": "code",
   "execution_count": 31,
   "metadata": {},
   "outputs": [
    {
     "name": "stderr",
     "output_type": "stream",
     "text": [
      "/home/rmsare/.local/lib/python3.5/site-packages/ipykernel_launcher.py:3: SettingWithCopyWarning: \n",
      "A value is trying to be set on a copy of a slice from a DataFrame\n",
      "\n",
      "See the caveats in the documentation: http://pandas.pydata.org/pandas-docs/stable/indexing.html#indexing-view-versus-copy\n",
      "  This is separate from the ipykernel package so we can avoid doing imports until\n"
     ]
    }
   ],
   "source": [
    "variables = ['SLP', 'TMP', 'DEW']\n",
    "for col in variables:\n",
    "    df[col][~(df[col].str.endswith(',5', ',1'))] = 'nan'\n",
    "    df[col] = df[col].str.replace(',5', '')\n",
    "    df[col] = df[col].str.replace(',1', '')\n",
    "    df[col] = df[col].astype(float)"
   ]
  },
  {
   "cell_type": "code",
   "execution_count": 32,
   "metadata": {},
   "outputs": [
    {
     "name": "stderr",
     "output_type": "stream",
     "text": [
      "/home/rmsare/.local/lib/python3.5/site-packages/ipykernel_launcher.py:2: SettingWithCopyWarning: \n",
      "A value is trying to be set on a copy of a slice from a DataFrame\n",
      "\n",
      "See the caveats in the documentation: http://pandas.pydata.org/pandas-docs/stable/indexing.html#indexing-view-versus-copy\n",
      "  \n",
      "/home/rmsare/.local/lib/python3.5/site-packages/ipykernel_launcher.py:4: SettingWithCopyWarning: \n",
      "A value is trying to be set on a copy of a slice from a DataFrame\n",
      "\n",
      "See the caveats in the documentation: http://pandas.pydata.org/pandas-docs/stable/indexing.html#indexing-view-versus-copy\n",
      "  after removing the cwd from sys.path.\n"
     ]
    }
   ],
   "source": [
    "df['DIR'] = df.WND.str[0:3].astype(float)\n",
    "df['DIR'][df.DIR == 999] = np.nan\n",
    "df['SPD'] = df.WND.str[8:12].astype(float)\n",
    "df['SPD'][df.SPD == 9999] = np.nan"
   ]
  },
  {
   "cell_type": "code",
   "execution_count": 33,
   "metadata": {},
   "outputs": [],
   "source": [
    "df['MONTH'] = df.index.month\n",
    "df['HOUR'] = df.index.hour\n",
    "df['DOW'] = df.index.dayofweek"
   ]
  },
  {
   "cell_type": "code",
   "execution_count": 34,
   "metadata": {},
   "outputs": [],
   "source": [
    "df = df[['SLP', 'SPD', 'DIR', 'TMP', 'DEW', 'MONTH', 'HOUR', 'DOW']]"
   ]
  },
  {
   "cell_type": "code",
   "execution_count": 35,
   "metadata": {},
   "outputs": [
    {
     "data": {
      "text/html": [
       "<div>\n",
       "<style scoped>\n",
       "    .dataframe tbody tr th:only-of-type {\n",
       "        vertical-align: middle;\n",
       "    }\n",
       "\n",
       "    .dataframe tbody tr th {\n",
       "        vertical-align: top;\n",
       "    }\n",
       "\n",
       "    .dataframe thead th {\n",
       "        text-align: right;\n",
       "    }\n",
       "</style>\n",
       "<table border=\"1\" class=\"dataframe\">\n",
       "  <thead>\n",
       "    <tr style=\"text-align: right;\">\n",
       "      <th></th>\n",
       "      <th>SLP</th>\n",
       "      <th>SPD</th>\n",
       "      <th>DIR</th>\n",
       "      <th>TMP</th>\n",
       "      <th>DEW</th>\n",
       "      <th>MONTH</th>\n",
       "      <th>HOUR</th>\n",
       "      <th>DOW</th>\n",
       "    </tr>\n",
       "    <tr>\n",
       "      <th>DATE</th>\n",
       "      <th></th>\n",
       "      <th></th>\n",
       "      <th></th>\n",
       "      <th></th>\n",
       "      <th></th>\n",
       "      <th></th>\n",
       "      <th></th>\n",
       "      <th></th>\n",
       "    </tr>\n",
       "  </thead>\n",
       "  <tbody>\n",
       "    <tr>\n",
       "      <th>2000-01-01 00:00:00</th>\n",
       "      <td>10167.0</td>\n",
       "      <td>57.0</td>\n",
       "      <td>240.0</td>\n",
       "      <td>130.0</td>\n",
       "      <td>NaN</td>\n",
       "      <td>1</td>\n",
       "      <td>0</td>\n",
       "      <td>5</td>\n",
       "    </tr>\n",
       "    <tr>\n",
       "      <th>2000-01-01 01:00:00</th>\n",
       "      <td>10169.0</td>\n",
       "      <td>46.0</td>\n",
       "      <td>260.0</td>\n",
       "      <td>122.0</td>\n",
       "      <td>78.0</td>\n",
       "      <td>1</td>\n",
       "      <td>1</td>\n",
       "      <td>5</td>\n",
       "    </tr>\n",
       "    <tr>\n",
       "      <th>2000-01-01 01:00:00</th>\n",
       "      <td>NaN</td>\n",
       "      <td>NaN</td>\n",
       "      <td>NaN</td>\n",
       "      <td>NaN</td>\n",
       "      <td>NaN</td>\n",
       "      <td>1</td>\n",
       "      <td>1</td>\n",
       "      <td>5</td>\n",
       "    </tr>\n",
       "    <tr>\n",
       "      <th>2000-01-01 02:00:00</th>\n",
       "      <td>10171.0</td>\n",
       "      <td>46.0</td>\n",
       "      <td>280.0</td>\n",
       "      <td>128.0</td>\n",
       "      <td>83.0</td>\n",
       "      <td>1</td>\n",
       "      <td>2</td>\n",
       "      <td>5</td>\n",
       "    </tr>\n",
       "    <tr>\n",
       "      <th>2000-01-01 02:00:00</th>\n",
       "      <td>NaN</td>\n",
       "      <td>NaN</td>\n",
       "      <td>NaN</td>\n",
       "      <td>NaN</td>\n",
       "      <td>NaN</td>\n",
       "      <td>1</td>\n",
       "      <td>2</td>\n",
       "      <td>5</td>\n",
       "    </tr>\n",
       "  </tbody>\n",
       "</table>\n",
       "</div>"
      ],
      "text/plain": [
       "                         SLP   SPD    DIR    TMP   DEW  MONTH  HOUR  DOW\n",
       "DATE                                                                    \n",
       "2000-01-01 00:00:00  10167.0  57.0  240.0  130.0   NaN      1     0    5\n",
       "2000-01-01 01:00:00  10169.0  46.0  260.0  122.0  78.0      1     1    5\n",
       "2000-01-01 01:00:00      NaN   NaN    NaN    NaN   NaN      1     1    5\n",
       "2000-01-01 02:00:00  10171.0  46.0  280.0  128.0  83.0      1     2    5\n",
       "2000-01-01 02:00:00      NaN   NaN    NaN    NaN   NaN      1     2    5"
      ]
     },
     "execution_count": 35,
     "metadata": {},
     "output_type": "execute_result"
    }
   ],
   "source": [
    "df.head()"
   ]
  },
  {
   "cell_type": "code",
   "execution_count": 36,
   "metadata": {},
   "outputs": [],
   "source": [
    "df.to_csv(WEATHER_FILE.replace('.csv', '_cleaned.csv'))"
   ]
  },
  {
   "cell_type": "code",
   "execution_count": 37,
   "metadata": {},
   "outputs": [
    {
     "data": {
      "text/plain": [
       "[Text(0, 0, 'SLP'),\n",
       " Text(0, 0, 'SPD'),\n",
       " Text(0, 0, 'DIR'),\n",
       " Text(0, 0, 'TMP'),\n",
       " Text(0, 0, 'DEW'),\n",
       " Text(0, 0, 'MONTH'),\n",
       " Text(0, 0, 'HOUR'),\n",
       " Text(0, 0, 'DOW')]"
      ]
     },
     "execution_count": 37,
     "metadata": {},
     "output_type": "execute_result"
    },
    {
     "data": {
      "image/png": "[encoded data removed]",
      "text/plain": [
       "<Figure size 432x288 with 2 Axes>"
      ]
     },
     "metadata": {},
     "output_type": "display_data"
    }
   ],
   "source": [
    "im = plt.imshow(df.corr(), cmap='RdBu_r', vmin=-1, vmax=1)\n",
    "cb = plt.colorbar(im)\n",
    "ax = plt.gca()\n",
    "ax.set_xticklabels(df.columns)\n",
    "ax.set_yticklabels(df.columns)"
   ]
  },
  {
   "cell_type": "code",
   "execution_count": 38,
   "metadata": {},
   "outputs": [],
   "source": [
    "df2 = pd.read_csv(POLLUTANT_FILE)"
   ]
  },
  {
   "cell_type": "code",
   "execution_count": 39,
   "metadata": {},
   "outputs": [],
   "source": [
    "df2['date'] = df2['Date Local'] + ' ' + df2['Time Local']"
   ]
  },
  {
   "cell_type": "code",
   "execution_count": 40,
   "metadata": {},
   "outputs": [],
   "source": [
    "df2 = df2.set_index(pd.to_datetime(df2.date))"
   ]
  },
  {
   "cell_type": "code",
   "execution_count": 41,
   "metadata": {},
   "outputs": [
    {
     "data": {
      "text/plain": [
       "<matplotlib.axes._subplots.AxesSubplot at 0x7fa974962978>"
      ]
     },
     "execution_count": 41,
     "metadata": {},
     "output_type": "execute_result"
    },
    {
     "data": {
      "image/png": "[encoded data removed]",
      "text/plain": [
       "<Figure size 432x288 with 1 Axes>"
      ]
     },
     "metadata": {},
     "output_type": "display_data"
    }
   ],
   "source": [
    "df2.plot(y='Sample Measurement')"
   ]
  },
  {
   "cell_type": "code",
   "execution_count": 42,
   "metadata": {},
   "outputs": [],
   "source": [
    "df2 = df2[['Sample Measurement']]\n",
    "df2.columns = ['PM25']"
   ]
  },
  {
   "cell_type": "code",
   "execution_count": 43,
   "metadata": {},
   "outputs": [
    {
     "data": {
      "text/html": [
       "<div>\n",
       "<style scoped>\n",
       "    .dataframe tbody tr th:only-of-type {\n",
       "        vertical-align: middle;\n",
       "    }\n",
       "\n",
       "    .dataframe tbody tr th {\n",
       "        vertical-align: top;\n",
       "    }\n",
       "\n",
       "    .dataframe thead th {\n",
       "        text-align: right;\n",
       "    }\n",
       "</style>\n",
       "<table border=\"1\" class=\"dataframe\">\n",
       "  <thead>\n",
       "    <tr style=\"text-align: right;\">\n",
       "      <th></th>\n",
       "      <th>SLP</th>\n",
       "      <th>SPD</th>\n",
       "      <th>DIR</th>\n",
       "      <th>TMP</th>\n",
       "      <th>DEW</th>\n",
       "      <th>MONTH</th>\n",
       "      <th>HOUR</th>\n",
       "      <th>DOW</th>\n",
       "    </tr>\n",
       "    <tr>\n",
       "      <th>DATE</th>\n",
       "      <th></th>\n",
       "      <th></th>\n",
       "      <th></th>\n",
       "      <th></th>\n",
       "      <th></th>\n",
       "      <th></th>\n",
       "      <th></th>\n",
       "      <th></th>\n",
       "    </tr>\n",
       "  </thead>\n",
       "  <tbody>\n",
       "    <tr>\n",
       "      <th>2018-12-01 20:00:00</th>\n",
       "      <td>10149.0</td>\n",
       "      <td>62.0</td>\n",
       "      <td>260.0</td>\n",
       "      <td>172.0</td>\n",
       "      <td>61.0</td>\n",
       "      <td>12</td>\n",
       "      <td>20</td>\n",
       "      <td>5</td>\n",
       "    </tr>\n",
       "    <tr>\n",
       "      <th>2018-12-01 21:00:00</th>\n",
       "      <td>10139.0</td>\n",
       "      <td>67.0</td>\n",
       "      <td>250.0</td>\n",
       "      <td>172.0</td>\n",
       "      <td>78.0</td>\n",
       "      <td>12</td>\n",
       "      <td>21</td>\n",
       "      <td>5</td>\n",
       "    </tr>\n",
       "    <tr>\n",
       "      <th>2018-12-01 22:00:00</th>\n",
       "      <td>10136.0</td>\n",
       "      <td>82.0</td>\n",
       "      <td>270.0</td>\n",
       "      <td>167.0</td>\n",
       "      <td>83.0</td>\n",
       "      <td>12</td>\n",
       "      <td>22</td>\n",
       "      <td>5</td>\n",
       "    </tr>\n",
       "    <tr>\n",
       "      <th>2018-12-01 23:00:00</th>\n",
       "      <td>10133.0</td>\n",
       "      <td>88.0</td>\n",
       "      <td>260.0</td>\n",
       "      <td>172.0</td>\n",
       "      <td>50.0</td>\n",
       "      <td>12</td>\n",
       "      <td>23</td>\n",
       "      <td>5</td>\n",
       "    </tr>\n",
       "    <tr>\n",
       "      <th>2018-12-02 00:00:00</th>\n",
       "      <td>10123.0</td>\n",
       "      <td>72.0</td>\n",
       "      <td>280.0</td>\n",
       "      <td>172.0</td>\n",
       "      <td>83.0</td>\n",
       "      <td>12</td>\n",
       "      <td>0</td>\n",
       "      <td>6</td>\n",
       "    </tr>\n",
       "  </tbody>\n",
       "</table>\n",
       "</div>"
      ],
      "text/plain": [
       "                         SLP   SPD    DIR    TMP   DEW  MONTH  HOUR  DOW\n",
       "DATE                                                                    \n",
       "2018-12-01 20:00:00  10149.0  62.0  260.0  172.0  61.0     12    20    5\n",
       "2018-12-01 21:00:00  10139.0  67.0  250.0  172.0  78.0     12    21    5\n",
       "2018-12-01 22:00:00  10136.0  82.0  270.0  167.0  83.0     12    22    5\n",
       "2018-12-01 23:00:00  10133.0  88.0  260.0  172.0  50.0     12    23    5\n",
       "2018-12-02 00:00:00  10123.0  72.0  280.0  172.0  83.0     12     0    6"
      ]
     },
     "execution_count": 43,
     "metadata": {},
     "output_type": "execute_result"
    }
   ],
   "source": [
    "df.tail()"
   ]
  },
  {
   "cell_type": "code",
   "execution_count": 44,
   "metadata": {},
   "outputs": [
    {
     "data": {
      "text/html": [
       "<div>\n",
       "<style scoped>\n",
       "    .dataframe tbody tr th:only-of-type {\n",
       "        vertical-align: middle;\n",
       "    }\n",
       "\n",
       "    .dataframe tbody tr th {\n",
       "        vertical-align: top;\n",
       "    }\n",
       "\n",
       "    .dataframe thead th {\n",
       "        text-align: right;\n",
       "    }\n",
       "</style>\n",
       "<table border=\"1\" class=\"dataframe\">\n",
       "  <thead>\n",
       "    <tr style=\"text-align: right;\">\n",
       "      <th></th>\n",
       "      <th>PM25</th>\n",
       "    </tr>\n",
       "    <tr>\n",
       "      <th>date</th>\n",
       "      <th></th>\n",
       "    </tr>\n",
       "  </thead>\n",
       "  <tbody>\n",
       "    <tr>\n",
       "      <th>2016-01-01 00:00:00</th>\n",
       "      <td>118.4</td>\n",
       "    </tr>\n",
       "    <tr>\n",
       "      <th>2016-01-01 01:00:00</th>\n",
       "      <td>117.4</td>\n",
       "    </tr>\n",
       "    <tr>\n",
       "      <th>2016-01-01 02:00:00</th>\n",
       "      <td>101.0</td>\n",
       "    </tr>\n",
       "    <tr>\n",
       "      <th>2016-01-01 03:00:00</th>\n",
       "      <td>73.2</td>\n",
       "    </tr>\n",
       "    <tr>\n",
       "      <th>2016-01-01 04:00:00</th>\n",
       "      <td>53.0</td>\n",
       "    </tr>\n",
       "  </tbody>\n",
       "</table>\n",
       "</div>"
      ],
      "text/plain": [
       "                      PM25\n",
       "date                      \n",
       "2016-01-01 00:00:00  118.4\n",
       "2016-01-01 01:00:00  117.4\n",
       "2016-01-01 02:00:00  101.0\n",
       "2016-01-01 03:00:00   73.2\n",
       "2016-01-01 04:00:00   53.0"
      ]
     },
     "execution_count": 44,
     "metadata": {},
     "output_type": "execute_result"
    }
   ],
   "source": [
    "df2.head()"
   ]
  },
  {
   "cell_type": "code",
   "execution_count": 45,
   "metadata": {},
   "outputs": [],
   "source": [
    "df = df[~df.index.duplicated(keep='first')]"
   ]
  },
  {
   "cell_type": "code",
   "execution_count": 46,
   "metadata": {},
   "outputs": [],
   "source": [
    "df2 = df2[~df2.index.duplicated(keep='first')]\n",
    "df2 = df2[['PM25']]"
   ]
  },
  {
   "cell_type": "code",
   "execution_count": 47,
   "metadata": {},
   "outputs": [],
   "source": [
    "df3 = pd.concat([df, df2], axis=1)"
   ]
  },
  {
   "cell_type": "code",
   "execution_count": null,
   "metadata": {},
   "outputs": [],
   "source": [
    "df3['DOW'] = df3.index.dayofweek\n",
    "df3['HOUR'] = df3.index.hour\n",
    "df3['MONTH'] = df3.index.month"
   ]
  },
  {
   "cell_type": "code",
   "execution_count": 49,
   "metadata": {},
   "outputs": [],
   "source": [
    "df3.to_csv('data/los_angeles_weather_pm25.csv')"
   ]
  },
  {
   "cell_type": "code",
   "execution_count": 50,
   "metadata": {},
   "outputs": [
    {
     "data": {
      "text/html": [
       "<div>\n",
       "<style scoped>\n",
       "    .dataframe tbody tr th:only-of-type {\n",
       "        vertical-align: middle;\n",
       "    }\n",
       "\n",
       "    .dataframe tbody tr th {\n",
       "        vertical-align: top;\n",
       "    }\n",
       "\n",
       "    .dataframe thead th {\n",
       "        text-align: right;\n",
       "    }\n",
       "</style>\n",
       "<table border=\"1\" class=\"dataframe\">\n",
       "  <thead>\n",
       "    <tr style=\"text-align: right;\">\n",
       "      <th></th>\n",
       "      <th>SLP</th>\n",
       "      <th>SPD</th>\n",
       "      <th>DIR</th>\n",
       "      <th>TMP</th>\n",
       "      <th>DEW</th>\n",
       "      <th>MONTH</th>\n",
       "      <th>HOUR</th>\n",
       "      <th>DOW</th>\n",
       "      <th>PM25</th>\n",
       "    </tr>\n",
       "  </thead>\n",
       "  <tbody>\n",
       "    <tr>\n",
       "      <th>2000-01-01 00:00:00</th>\n",
       "      <td>10167.0</td>\n",
       "      <td>57.0</td>\n",
       "      <td>240.0</td>\n",
       "      <td>130.0</td>\n",
       "      <td>NaN</td>\n",
       "      <td>1</td>\n",
       "      <td>0</td>\n",
       "      <td>5</td>\n",
       "      <td>NaN</td>\n",
       "    </tr>\n",
       "    <tr>\n",
       "      <th>2000-01-01 01:00:00</th>\n",
       "      <td>10169.0</td>\n",
       "      <td>46.0</td>\n",
       "      <td>260.0</td>\n",
       "      <td>122.0</td>\n",
       "      <td>78.0</td>\n",
       "      <td>1</td>\n",
       "      <td>1</td>\n",
       "      <td>5</td>\n",
       "      <td>NaN</td>\n",
       "    </tr>\n",
       "    <tr>\n",
       "      <th>2000-01-01 02:00:00</th>\n",
       "      <td>10171.0</td>\n",
       "      <td>46.0</td>\n",
       "      <td>280.0</td>\n",
       "      <td>128.0</td>\n",
       "      <td>83.0</td>\n",
       "      <td>1</td>\n",
       "      <td>2</td>\n",
       "      <td>5</td>\n",
       "      <td>NaN</td>\n",
       "    </tr>\n",
       "    <tr>\n",
       "      <th>2000-01-01 03:00:00</th>\n",
       "      <td>10172.0</td>\n",
       "      <td>21.0</td>\n",
       "      <td>10.0</td>\n",
       "      <td>117.0</td>\n",
       "      <td>78.0</td>\n",
       "      <td>1</td>\n",
       "      <td>3</td>\n",
       "      <td>5</td>\n",
       "      <td>NaN</td>\n",
       "    </tr>\n",
       "    <tr>\n",
       "      <th>2000-01-01 04:00:00</th>\n",
       "      <td>10173.0</td>\n",
       "      <td>31.0</td>\n",
       "      <td>110.0</td>\n",
       "      <td>106.0</td>\n",
       "      <td>0.0</td>\n",
       "      <td>1</td>\n",
       "      <td>4</td>\n",
       "      <td>5</td>\n",
       "      <td>NaN</td>\n",
       "    </tr>\n",
       "  </tbody>\n",
       "</table>\n",
       "</div>"
      ],
      "text/plain": [
       "                         SLP   SPD    DIR    TMP   DEW  MONTH  HOUR  DOW  PM25\n",
       "2000-01-01 00:00:00  10167.0  57.0  240.0  130.0   NaN      1     0    5   NaN\n",
       "2000-01-01 01:00:00  10169.0  46.0  260.0  122.0  78.0      1     1    5   NaN\n",
       "2000-01-01 02:00:00  10171.0  46.0  280.0  128.0  83.0      1     2    5   NaN\n",
       "2000-01-01 03:00:00  10172.0  21.0   10.0  117.0  78.0      1     3    5   NaN\n",
       "2000-01-01 04:00:00  10173.0  31.0  110.0  106.0   0.0      1     4    5   NaN"
      ]
     },
     "execution_count": 50,
     "metadata": {},
     "output_type": "execute_result"
    }
   ],
   "source": [
    "df3.head()"
   ]
  },
  {
   "cell_type": "code",
   "execution_count": null,
   "metadata": {},
   "outputs": [],
   "source": []
  }
 ],
 "metadata": {
  "kernelspec": {
   "display_name": "Python 3",
   "language": "python",
   "name": "python3"
  },
  "language_info": {
   "codemirror_mode": {
    "name": "ipython",
    "version": 3
   },
   "file_extension": ".py",
   "mimetype": "text/x-python",
   "name": "python",
   "nbconvert_exporter": "python",
   "pygments_lexer": "ipython3",
   "version": "3.5.2"
  }
 },
 "nbformat": 4,
 "nbformat_minor": 2
}
